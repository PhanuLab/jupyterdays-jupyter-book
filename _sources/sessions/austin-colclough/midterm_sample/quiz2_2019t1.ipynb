{
 "cells": [
  {
   "cell_type": "markdown",
   "metadata": {
    "answer": "B",
    "ctype": "question",
    "quesnum": 1
   },
   "source": [
    "Q1) We notice the planet loses about $5 \\times 10^{5}\\ km^{2}$ of ice\n",
    "    area for each 1 K change in surface temperature. Further, the\n",
    "    change in radiative forcing per square kilometre of arctic ice\n",
    "    ∆R/∆(ice area) is $-10^{−6} W m^{- 2}/km^{2}$. Use this\n",
    "    information to calculate the strength of the ice-albedo feedback\n",
    "    $f_{ice}$. Choose the closest answer.\n",
    "\n",
    "   A) 0.2 $\\text{Wm}^{- 2}K^{- 1}$  \n",
    "   B) 0.5 $\\text{Wm}^{- 2}K^{- 1}$  \n",
    "   C) 0.75 $\\text{Wm}^{- 2}K^{- 1}$  \n",
    "   D) 2 $\\text{Wm}^{- 2}K^{- 1}$  \n",
    "   E) 5 $\\text{Wm}^{- 2}K^{- 1}$"
   ]
  },
  {
   "cell_type": "markdown",
   "metadata": {
    "answer": "B",
    "ctype": "question",
    "quesnum": 1
   },
   "source": [
    "**Q1 answer B)**\n",
    "\n",
    "\\begin{align*}\n",
    "f_{ice} =  \\left( \\frac { \\Delta R } { \\Delta \\text {climate } } \\right) \\left( \\frac { \\Delta \\text { climate } } { \\Delta T } \\right)\n",
    "\\end{align*}"
   ]
  },
  {
   "cell_type": "code",
   "execution_count": 1,
   "metadata": {
    "answer": "B",
    "ctype": "answer",
    "quesnum": 1
   },
   "outputs": [
    {
     "data": {
      "text/plain": [
       "0.5"
      ]
     },
     "execution_count": 1,
     "metadata": {},
     "output_type": "execute_result"
    }
   ],
   "source": [
    "-5.0e5 * (-1.0e-6)  # B"
   ]
  },
  {
   "cell_type": "markdown",
   "metadata": {
    "answer": "D",
    "ctype": "question",
    "quesnum": 2
   },
   "source": [
    "Q2) Suppose a climate scientist establishes that her group’s model\n",
    "    has a total climate sensitivity of λ=0.65 K/($Wm^{-2}$). She then\n",
    "    makes a change to the cloud routine that increases the strength of\n",
    "    the cloud feedback from +0.5 $\\text{Wm}^{- 2}K^{- 1}$ to +0.75\n",
    "    $\\text{Wm}^{- 2}K^{- 1}$. What is the new total feedback of the\n",
    "    model?\n",
    "\n",
    "   A) 0.90 $\\text{Wm}^{- 2}K^{- 1}$   \n",
    "   B) -0.90 $\\text{Wm}^{- 2}K^{- 1}$  \n",
    "   C) 1.29 $\\text{Wm}^{- 2}K^{- 1}$  \n",
    "   D) -1.29 $\\text{Wm}^{- 2}K^{- 1}$  \n",
    "   E) 1.79 $\\text{Wm}^{- 2}K^{- 1}$"
   ]
  },
  {
   "cell_type": "code",
   "execution_count": 2,
   "metadata": {
    "answer": "D",
    "ctype": "question",
    "quesnum": 2
   },
   "outputs": [
    {
     "name": "stdout",
     "output_type": "stream",
     "text": [
      "-0.7761194029850748 -1.2884615384615383\n"
     ]
    }
   ],
   "source": [
    "f = -1 / 0.65\n",
    "f_new = f + 0.25\n",
    "lambda_new = 1 / f_new\n",
    "print(lambda_new, f_new)  # D"
   ]
  },
  {
   "cell_type": "markdown",
   "metadata": {
    "answer": "A",
    "ctype": "question",
    "quesnum": 3
   },
   "source": [
    "Q3) How long does it take for a constant forcing of 3 $W\\,m^{- 2}$ to\n",
    "    warm a 150 m thick ocean layer by 0.75 K? (A year has 31,536,000\n",
    "    seconds)\n",
    "\n",
    "   A) 5 years  \n",
    "   B) 7.5 years  \n",
    "   C) 10 years  \n",
    "   D) 15 years  \n",
    "   E) 25 years"
   ]
  },
  {
   "cell_type": "code",
   "execution_count": 3,
   "metadata": {
    "answer": "A",
    "ctype": "answer",
    "quesnum": "3"
   },
   "outputs": [
    {
     "name": "stdout",
     "output_type": "stream",
     "text": [
      "4.977644596651446\n"
     ]
    }
   ],
   "source": [
    "D = 150\n",
    "cw = 4186\n",
    "rhow = 1000.0\n",
    "delTemp = 0.75\n",
    "delF = 3\n",
    "delt = rhow * D * cw * delTemp / delF\n",
    "sec2years = 1 / (31536000)\n",
    "print(delt * sec2years)  # A"
   ]
  },
  {
   "cell_type": "markdown",
   "metadata": {
    "answer": "E",
    "ctype": "question",
    "quesnum": 4
   },
   "source": [
    "Q4) Imagine we end up burning the rest of the available coal (2800 Gton\n",
    "    carbon) **and** the oil and natural gas (200 Gton carbon), but we\n",
    "    don’t burn any other fossil carbon. What will the atmospheric\n",
    "    concentration of $CO_2$ be when we’re finished? Assume we\n",
    "    burn everything instantaneously, that all of the emitted carbon\n",
    "    stays in the atmosphere, and that today’s atmospheric $CO_2$\n",
    "    concentration is 400 ppm.\n",
    "\n",
    "   A) about 580 ppm  \n",
    "   B) about 640 ppm  \n",
    "   C) about 1050 ppm  \n",
    "   D) about 1200 ppm  \n",
    "   E) about 1830 ppm"
   ]
  },
  {
   "cell_type": "code",
   "execution_count": 4,
   "metadata": {
    "answer": " ",
    "ctype": "question",
    "quesnum": " "
   },
   "outputs": [
    {
     "data": {
      "text/plain": [
       "1428.5714285714284"
      ]
     },
     "execution_count": 4,
     "metadata": {},
     "output_type": "execute_result"
    }
   ],
   "source": [
    "3000 / 2.1  # E"
   ]
  },
  {
   "cell_type": "markdown",
   "metadata": {
    "answer": " ",
    "ctype": "question",
    "quesnum": 5
   },
   "source": [
    "<div class=\"page-break\"></div>\n",
    "\n",
    "Q5) For the figure below, pick the most accurate description of the\n",
    "    rectangular region labeled (2).  Assume the instrument is looking down from the top of this atmosphere\n",
    "\n",
    "   <img src=\"media/image14.png\" style=\"width:4.96063in;height:4in\" />\n",
    "\n",
    "   A) The radiation emitted by the gas that reaches the top of the atmosphere  \n",
    "   B) The radiation absorbed by the gas  \n",
    "   C) The greenhouse effect from the gas in this wavenumber range  \n",
    "   D) The surface radiation absorbed by the gas  \n",
    "   E) The radiation emitted by the gas that reaches the surface"
   ]
  },
  {
   "cell_type": "markdown",
   "metadata": {
    "answer": " ",
    "ctype": "question",
    "quesnum": 6
   },
   "source": [
    "Q6) For this feedback loop:\n",
    "\n",
    "<img src=\"media/image16.png\" style=\"width:4.62205in;height:1.50394in\" />\n",
    "\n",
    "\n",
    "  Choose the best characterization, keeping in mind that feedbacks\n",
    "  work in both directions.  ($R_{net}$ is the net downward radiation at the top of the atmosphere)\n",
    "\n",
    "   A) Amplifying because increasing low clouds heat the surface through\n",
    "      longwave emission  \n",
    "   B) Stabilizing because increasing low clouds reduce the surface heat\n",
    "      flux  \n",
    "   C) Amplifying because increasing low clouds reflect more incoming\n",
    "      shortwave  \n",
    "   D) Amplifying because increasing low clouds increase atmospheric\n",
    "      mixing  \n",
    "   E) Stabilizing because increasing low clouds emit more radiation to\n",
    "      space"
   ]
  },
  {
   "cell_type": "markdown",
   "metadata": {
    "answer": " ",
    "ctype": "question",
    "quesnum": 6
   },
   "source": [
    "#C"
   ]
  },
  {
   "cell_type": "markdown",
   "metadata": {
    "answer": " ",
    "ctype": "question",
    "quesnum": 7
   },
   "source": [
    "Q7) Consider the following shallow, nocturnal atmospheric layer with\n",
    "    emissivity **$ε_a$=0.8** over ground with emissivity of ε=1. If\n",
    "    the ground temperature $T_g$ is 300 K and the air\n",
    "    temperature $T_a$ is 260 K, what is the heating/cooling rate\n",
    "    **of the ground** in $W\\,m^{-2}$?\n",
    "\n",
    "   **(Note 250 $W\\,m^{-2}$ in longwave flux is entering the layer from above)**\n",
    "\n",
    "   **Shortcut:  $\\sigma \\times 300^4 = 460\\ W\\,m\\,^2$**\n",
    "\n",
    "\n",
    "   <img src=\"media/image17.png\" width=\"60%\" />\n",
    "\n",
    "\n",
    "   A) -251 $W\\,m^{-2}$  \n",
    "   B) -202 $W\\,m^{-2}$  \n",
    "   C) +101 $W\\,m^{-2}$  \n",
    "   D) +202 $W\\,m^{-2}$  \n",
    "   E) +251 $W\\,m^{-2}$"
   ]
  },
  {
   "cell_type": "code",
   "execution_count": 5,
   "metadata": {
    "answer": " ",
    "ctype": "question",
    "quesnum": 7
   },
   "outputs": [
    {
     "data": {
      "text/plain": [
       "-202.71568639999998"
      ]
     },
     "execution_count": 5,
     "metadata": {},
     "output_type": "execute_result"
    }
   ],
   "source": [
    "sigma = 5.67e-8\n",
    "250 * (1 - 0.8) + 0.8 * sigma * 260 ** 4.0 - 460.0  # B"
   ]
  },
  {
   "cell_type": "markdown",
   "metadata": {
    "answer": " ",
    "ctype": "question",
    "quesnum": 8
   },
   "source": [
    "Q8) Which of the following climate feedbacks are always stabilizing?\n",
    "\n",
    "    i. Water vapour feedback\n",
    "    ii. Lapse rate feedback\n",
    "    iii. Planck feedback\n",
    "    iv. cloud feedback\n",
    "\n",
    "   A) i, iii  \n",
    "   B) ii,iii  \n",
    "   C) iv  \n",
    "   D) i, iii, iv  \n",
    "   E) ii, iv"
   ]
  },
  {
   "cell_type": "markdown",
   "metadata": {
    "answer": "B",
    "ctype": "question",
    "quesnum": 8
   },
   "source": [
    "#B"
   ]
  },
  {
   "cell_type": "markdown",
   "metadata": {
    "answer": " ",
    "ctype": "question",
    "quesnum": 9
   },
   "source": [
    "<div class=\"page-break\"></div>\n",
    "\n",
    "Q9) Given the fluxes in the following figure, the Greenhouse effect of\n",
    "    this atmosphere is\n",
    "\n",
    "   <img src=\"media/single_layer.png\" style=\"width:3.54331in;height:1.56299in\" />\n",
    "\n",
    "   A) 20 $W\\,m^{-2}$  \n",
    "   B) 40 $W\\,m^{-2}$  \n",
    "   C) 120 $W\\,m^{-2}$  \n",
    "   D) 320 $W\\,m^{-2}$  \n",
    "   E) 400 $W\\,m^{-2}$"
   ]
  },
  {
   "cell_type": "code",
   "execution_count": 6,
   "metadata": {
    "answer": " ",
    "ctype": "question",
    "quesnum": 9
   },
   "outputs": [
    {
     "data": {
      "text/plain": [
       "40"
      ]
     },
     "execution_count": 6,
     "metadata": {},
     "output_type": "execute_result"
    }
   ],
   "source": [
    "-280 - 80 + 400  # B\n",
    "#"
   ]
  },
  {
   "cell_type": "markdown",
   "metadata": {
    "answer": " ",
    "ctype": "question"
   },
   "source": [
    "```{math}\n",
    "\\begin{align}\n",
    "\\text{Layer energy equation:} ~~~ & \\frac { d E } { d t } = I _ { \\downarrow } + I _ { \\uparrow }\\\\\n",
    "\\text{Solar constant:}~~~& S= \\frac { S _ { 0 } } { 4 } ( 1 - \\alpha )\\\\\n",
    "\\text{Total grey body flux} ~~~ & I = \\varepsilon \\sigma T ^ { 4 }\\\\\n",
    "&\\text{where} ~~~ \\sigma = 5.67 \\times 10 ^ { - 8 } \\mathrm { Wm } ^ { - 2 } \\mathrm { K } ^ { - 4 }\\nonumber\\\\\n",
    "\\text{transmissivity tr:}~~~& I _ { \\text {transmitted } } = \\mathrm { tr } I _ { 0 }\\\\\n",
    "\\text{reflectity}~ \\alpha~~~ & I _ { \\text {reflected } } = \\alpha I _ { 0 } \\\\\n",
    "\\text{absorbtivity abs} ~~~ & I _ { \\text {absorbed} } = \\text{abs} I _ { 0 }\\\\\n",
    "\\text{Kirchoff's law} ~~ & \\varepsilon = \\text{abs} \\\\\n",
    "\\text{$CO_2$ radiative forcing} ~~~& \\Delta F = \\left(3.8 \\mathrm{W} \\mathrm{m}^{ - 2 } \\right) \\frac { \\ln ( \\text {newp} \\operatorname { CO } 2 / \\text { origp } \\mathrm { CO } 2 ) } { \\ln ( 2 ) } \\\\\n",
    "\\text{Conservation of Energy:}~~~&\\alpha \\mathrm { I } _ { 0 } + a b s \\mathrm { I } _ { 0 } + \\mathrm { trI } _ { 0 } = \\mathrm { I } _ { 0 }\\\\\n",
    "\\text{moist static energy:}~~~ & h _ { m } = c _ { p } T + l _ { v } w _ { v } + g z \\\\\n",
    "\\text{moist adiabatic lapse rate:}~~~&\\Gamma = \\frac { d T } { d z } = \\frac { - g } { c _ { p } + l _ { v } \\frac { d w _ { v } } { d T } }\\\\\n",
    "\\text{hydrostatic balance:}~~~&d p = - \\rho g d z \\\\\n",
    "\\text{mass in a layer in $kg/m^2$:}~~~&M = \\int _ { z _ { 1 } } ^ { z _ { 2 } } \\rho(z) d z\\\\\n",
    "\\text{energy in an ocean layer:}~~~&\\Delta E=\\rho_{w} D c_{w} \\Delta T\\\\\n",
    "\\text{Conservation of energy for layer:}~~~&\\frac{d \\Delta E}{d t}=\\Delta F\\\\\n",
    "\\text{change of temperature for an ocean layer:}~~~&\\frac{d \\Delta T}{d t}=\\frac{\\Delta F}{\\rho_{w} c_{w} D}\\\\\n",
    "\\text{Planck feedback:}~~~&\\frac { d I _ { G } } { d T } = \\frac { d \\left( - \\sigma T ^ { 4 } \\right) } { d T } = f_{planck} =- 4 \\sigma T ^ { 3 } = - 1 / \\lambda\\\\\n",
    "\\text{Conservation of energy with feedback:}~~~&\n",
    "\\frac { \\Delta E } { d t } = \\Delta F - 4 \\sigma T ^ { 3 } \\Delta T\\\\\n",
    "\\text{Climate adjustment to abrupt forcing:}~~~&\\Delta T ( t ) = \\lambda \\Delta F \\left( 1 - e ^ { - t / \\tau } \\right) \\\\\n",
    "\\text{Climate adjustment timescale:}~~~&\\tau = \\rho _ { w } c _ { w } D \\lambda\\\\\n",
    "\\text{Climate sensitivity:}~~~&\\Delta T = \\lambda \\Delta F\\\\\n",
    "\\text{Climage mean temperature budget:}~~~&\\rho _ { w } c _ { w } D \\frac { d T } { d t } = \\Delta F + \\sum f _ { n } \\Delta T\\\\\n",
    "\\text{Climate feedback factor:}~~~&f _ { n } = \\frac { \\Delta R } { \\Delta T } = \\left( \\frac { \\Delta R } { \\Delta \\text { climate } } \\right) \\left( \\frac { \\Delta \\text { climate } } { \\Delta T } \\right)\\\\\n",
    "\\text{Climate sensitivity with feedbacks:}~~~&\\lambda = - \\frac { 1 } { \\sum f _ { n } }\n",
    "\\end{align}\n",
    "```"
   ]
  },
  {
   "cell_type": "markdown",
   "metadata": {
    "answer": " ",
    "ctype": "question"
   },
   "source": [
    "# Quiz 2 constants\n",
    "\n",
    "```{math}\n",
    "\\begin{align}\n",
    "&\\text{1 ppm = 2.1 Gtonnes Carbon = 7.6 Gtonnes $CO_2$}\\\\\n",
    "\\sigma  &= 5.67 \\times 10 ^ { - 8 } \\mathrm { Wm } ^ { - 2 } \\mathrm { K } ^ { - 4 }\\\\\n",
    "c_p  &= 1004\\ J\\,kg^{-1}\\,K^{-1} \\\\\n",
    "c_w  &= 4186\\ J\\,kg^{-1}\\,K^{-1} \\\\\n",
    "\\rho_w &= 1000\\ kg\\,m^{-3}\\\\\n",
    "l_v &= 2.5 \\times 10^6\\ J\\,kg^{-1}\n",
    "\\end{align}\n",
    "```"
   ]
  }
 ],
 "metadata": {
  "jupytext": {
   "cell_metadata_filter": "all",
   "cell_metadata_json": true,
   "encoding": "# -*- coding: utf-8 -*-",
   "formats": "ipynb,md:myst,py:percent",
   "notebook_metadata_filter": "all,-language_info,-latex_envs,-toc",
   "text_representation": {
    "extension": ".md",
    "format_name": "myst",
    "format_version": "0.10",
    "jupytext_version": "1.5.2"
   }
  },
  "kernelspec": {
   "display_name": "Python 3",
   "language": "python",
   "name": "python3"
  },
  "language_info": {
   "codemirror_mode": {
    "name": "ipython",
    "version": 3
   },
   "file_extension": ".py",
   "mimetype": "text/x-python",
   "name": "python",
   "nbconvert_exporter": "python",
   "pygments_lexer": "ipython3",
   "version": "3.7.9"
  },
  "source_map": [
   19,
   34,
   42,
   50,
   65,
   76,
   88,
   103,
   119,
   127,
   142,
   163,
   167,
   189,
   198,
   213,
   217,
   232,
   241,
   274
  ]
 },
 "nbformat": 4,
 "nbformat_minor": 4
}