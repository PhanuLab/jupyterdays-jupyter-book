{
 "cells": [
  {
   "cell_type": "markdown",
   "metadata": {
    "slideshow": {
     "slide_type": "slide"
    }
   },
   "source": [
    "# Finding Data for Data Science\n",
    "\n",
    "**Jeremy Buhler**   \n",
    "Data Librarian, UBC Library Research Commons\n"
   ]
  },
  {
   "cell_type": "markdown",
   "metadata": {
    "slideshow": {
     "slide_type": "slide"
    }
   },
   "source": [
    "## UBC Library Research Commons\n",
    "A multidisciplinary hub that supports research and provides training in research-enabling skills."
   ]
  },
  {
   "cell_type": "markdown",
   "metadata": {
    "slideshow": {
     "slide_type": "fragment"
    }
   },
   "source": [
    "- Finding and accessing data\n",
    "- Geospatial data and GIS"
   ]
  },
  {
   "cell_type": "markdown",
   "metadata": {
    "slideshow": {
     "slide_type": "slide"
    }
   },
   "source": [
    "## Selected data sources\n",
    "\n",
    "- **[Abacus](https://abacus.library.ubc.ca)** - UBC Library repository for open and licensed data\n",
    "- **[Planet](https://www.planet.com/products/planet-imagery/)** - Satellite imagery and archive\n",
    "- **[Geodisy](https://geo.frdr-dfdr.ca/)** - Spatial discovery layer for Canadian research data\n",
    "\n"
   ]
  },
  {
   "cell_type": "markdown",
   "metadata": {
    "slideshow": {
     "slide_type": "slide"
    }
   },
   "source": [
    "## Abacus\n",
    "[Abacus](https://abacus.library.ubc.ca) is a data repository hosted by UBC Library and used by SFU, UBC, UNBC, and UVic. \n",
    "\n",
    "The collection is selective: data is acquired to support research and teaching needs. \n",
    "\n"
   ]
  },
  {
   "cell_type": "markdown",
   "metadata": {
    "slideshow": {
     "slide_type": "slide"
    }
   },
   "source": [
    "### Data examples from Abacus\n",
    "\n",
    "- Statistics Canada microdata (e.g [2016 Census PUMF](http://hdl.handle.net/11272/10711))\n",
    "- Recordings from the [Linguistic Data Consortium](https://www.ldc.upenn.edu/about) (e.g. [TIMIT](http://hdl.handle.net/11272/2PJSR))\n",
    "- UBC LiDAR (2010, 2015) and orthophotos (2000-2020)\n",
    "\n"
   ]
  },
  {
   "cell_type": "markdown",
   "metadata": {
    "slideshow": {
     "slide_type": "slide"
    }
   },
   "source": [
    "### Abacus upgrade, August 2020\n",
    "- Cleaner interface\n",
    "- API access to data files, documentation, and metadata\n",
    "- Statistics Canada PUMFs freely available"
   ]
  },
  {
   "cell_type": "markdown",
   "metadata": {
    "slideshow": {
     "slide_type": "slide"
    }
   },
   "source": [
    "## Planet\n",
    "The _Planet_ company operates satellites that image the entire Earth landmass on a daily basis.\n"
   ]
  },
  {
   "cell_type": "markdown",
   "metadata": {
    "slideshow": {
     "slide_type": "fragment"
    }
   },
   "source": [
    "\n",
    "In 2020 UBC Library licensed [Planet Imagery and Archive](https://www.planet.com/products/planet-imagery/), giving UBC researchers and instructors access to imagery from the PlanetScope and RapidEye satellites."
   ]
  },
  {
   "cell_type": "markdown",
   "metadata": {
    "slideshow": {
     "slide_type": "slide"
    }
   },
   "source": [
    " _Global, weekly, 5m resolution, multispectral imagery going back to 2009._"
   ]
  },
  {
   "cell_type": "markdown",
   "metadata": {
    "slideshow": {
     "slide_type": "slide"
    }
   },
   "source": [
    "<div style=\"width: 48%; float: left\">\n",
    "Before - Aug 26, 2020 \n",
    "<img src=\"https://ichef.bbci.co.uk/news/976/cpsprodpb/E721/production/_113896195_before.jpg\" width=\"500px\" /></div>\n",
    "\n",
    "\n",
    "<div style=\"width: 48%; float: right\">\n",
    "After - Aug 31, 2020 \n",
    "<img src=\"https://ichef.bbci.co.uk/news/976/cpsprodpb/71F1/production/_113896192_after.jpg\" width=\"500px\" /></div>\n",
    "\n",
    "\n",
    "_'Planet' imagery linked from BBC News story, [Milne Ice Shelf: Satellites capture Arctic ice split](https://www.bbc.com/news/science-environment-53737138)_\n",
    "\n"
   ]
  },
  {
   "cell_type": "markdown",
   "metadata": {
    "slideshow": {
     "slide_type": "slide"
    }
   },
   "source": [
    "### _Planet_ resources\n",
    "- [Information about accessing Planet](https://resources.library.ubc.ca/page.php?id=2551)\n",
    "- [Planet Jupyter notebooks](https://github.com/planetlabs/notebooks)\n",
    "    - use the API\n",
    "    - process Planet data\n",
    "    - analyze and visualize Planet data"
   ]
  },
  {
   "cell_type": "markdown",
   "metadata": {
    "slideshow": {
     "slide_type": "slide"
    }
   },
   "source": [
    "## Geodisy\n",
    "[Geodisy](https://geo.frdr-dfdr.ca/) is a spatial discovery platform for Canadian open research data that allows users to find data using a map instead of keywords.\n",
    "\n",
    "Geodisy was developed by a team from UBC Library and UBC Advanced Research Computing (ARC) with funding from CANARIE. "
   ]
  },
  {
   "cell_type": "markdown",
   "metadata": {},
   "source": [
    "## Research Commons contacts\n",
    "\n",
    "\n",
    "- Jeremy Buhler, Data Librarian, [jeremy.buhler@ubc.ca](mailto:jeremy.buhler@ubc.ca)\n",
    "- Evan Thornberry, GIS Librarian, [evan.thornberry@ubc.ca](mailto:evan.thornberry@ubc.ca)\n",
    "\n"
   ]
  }
 ],
 "metadata": {
  "celltoolbar": "Slideshow",
  "kernelspec": {
   "display_name": "Python 3",
   "language": "python",
   "name": "python3"
  },
  "language_info": {
   "codemirror_mode": {
    "name": "ipython",
    "version": 3
   },
   "file_extension": ".py",
   "mimetype": "text/x-python",
   "name": "python",
   "nbconvert_exporter": "python",
   "pygments_lexer": "ipython3",
   "version": "3.8.3"
  },
  "rise": {
   "transition": "none"
  }
 },
 "nbformat": 4,
 "nbformat_minor": 4
}
